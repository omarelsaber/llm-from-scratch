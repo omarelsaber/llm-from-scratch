{
 "cells": [
  {
   "cell_type": "markdown",
   "id": "6fd6b0f2",
   "metadata": {},
   "source": [
    "Imports & device & path"
   ]
  },
  {
   "cell_type": "code",
   "execution_count": 1,
   "id": "367cf9b0",
   "metadata": {},
   "outputs": [
    {
     "name": "stdout",
     "output_type": "stream",
     "text": [
      "SRC_DIR added: c:\\Users\\ASUS\\OneDrive\\Desktop\\llm-from-scratch-tokenization\\src\n"
     ]
    },
    {
     "data": {
      "text/plain": [
       "'cpu'"
      ]
     },
     "execution_count": 1,
     "metadata": {},
     "output_type": "execute_result"
    }
   ],
   "source": [
    "import sys\n",
    "from pathlib import Path\n",
    "\n",
    "# Get project root from current working directory\n",
    "PROJECT_ROOT = Path.cwd().parent  # parent = يرجع خطوة لفوق (من notebooks → root)\n",
    "SRC_DIR = PROJECT_ROOT / \"src\"\n",
    "\n",
    "# Add src/ to Python path\n",
    "sys.path.append(str(SRC_DIR))\n",
    "\n",
    "print(\"SRC_DIR added:\", SRC_DIR)\n",
    "\n",
    "\n",
    "# Cell 1\n",
    "import os, sys\n",
    "from pathlib import Path\n",
    "import torch\n",
    "import torch.nn as nn\n",
    "\n",
    "NOTEBOOK_DIR = Path.cwd()\n",
    "PROJECT_ROOT = NOTEBOOK_DIR.parent\n",
    "SRC_DIR = PROJECT_ROOT / \"src\"\n",
    "sys.path.append(str(SRC_DIR))\n",
    "\n",
    "from attention import causal_mask, MultiHeadSelfAttention, TransformerBlock\n",
    "\n",
    "device = \"cuda\" if torch.cuda.is_available() else \"cpu\"\n",
    "device\n"
   ]
  },
  {
   "cell_type": "code",
   "execution_count": 2,
   "id": "8f09bd59",
   "metadata": {},
   "outputs": [
    {
     "name": "stdout",
     "output_type": "stream",
     "text": [
      "torch.Size([12, 12])\n",
      "tensor([[0, 1, 1, 1, 1, 1],\n",
      "        [0, 0, 1, 1, 1, 1],\n",
      "        [0, 0, 0, 1, 1, 1],\n",
      "        [0, 0, 0, 0, 1, 1],\n",
      "        [0, 0, 0, 0, 0, 1],\n",
      "        [0, 0, 0, 0, 0, 0]], dtype=torch.int32)\n"
     ]
    }
   ],
   "source": [
    "# Cell 2\n",
    "T = 12\n",
    "mask = causal_mask(T)\n",
    "print(mask.shape)\n",
    "print(mask[:6, :6].int())  \n"
   ]
  },
  {
   "cell_type": "code",
   "execution_count": 3,
   "id": "d3c99891",
   "metadata": {},
   "outputs": [
    {
     "data": {
      "text/plain": [
       "torch.Size([2, 16, 64])"
      ]
     },
     "execution_count": 3,
     "metadata": {},
     "output_type": "execute_result"
    }
   ],
   "source": [
    "# Cell 3\n",
    "torch.manual_seed(42)\n",
    "B, T, C, H = 2, 16, 64, 8\n",
    "\n",
    "x = torch.randn(B, T, C).to(device)\n",
    "mha = MultiHeadSelfAttention(d_model=C, n_heads=H, dropout=0.1).to(device)\n",
    "y = mha(x)\n",
    "y.shape\n"
   ]
  },
  {
   "cell_type": "code",
   "execution_count": 4,
   "id": "cbec3269",
   "metadata": {},
   "outputs": [
    {
     "data": {
      "text/plain": [
       "torch.Size([2, 16, 64])"
      ]
     },
     "execution_count": 4,
     "metadata": {},
     "output_type": "execute_result"
    }
   ],
   "source": [
    "# Cell 4\n",
    "block = TransformerBlock(d_model=C, n_heads=H, mlp_ratio=4, dropout=0.1).to(device)\n",
    "out = block(x)\n",
    "out.shape\n"
   ]
  },
  {
   "cell_type": "code",
   "execution_count": 5,
   "id": "ee5d0b36",
   "metadata": {},
   "outputs": [
    {
     "data": {
      "text/plain": [
       "torch.Size([1, 18, 64])"
      ]
     },
     "execution_count": 5,
     "metadata": {},
     "output_type": "execute_result"
    }
   ],
   "source": [
    "# Cell 5\n",
    "import tiktoken\n",
    "enc = tiktoken.get_encoding(\"gpt2\")\n",
    "vocab_size = enc.n_vocab\n",
    "d_model = 64\n",
    "context_len = 64\n",
    "\n",
    "tok_emb = nn.Embedding(vocab_size, d_model).to(device)\n",
    "pos_emb = nn.Embedding(context_len, d_model).to(device)\n",
    "\n",
    "text = \"Self-attention lets tokens attend only to previous positions in decoder-only models.\"\n",
    "ids = enc.encode(text)\n",
    "ids = ids[:context_len] \n",
    "T = len(ids)\n",
    "\n",
    "x_ids = torch.tensor(ids, dtype=torch.long, device=device).unsqueeze(0)  # (1,T)\n",
    "\n",
    "tokens = tok_emb(x_ids)  # (1,T,C)\n",
    "positions = pos_emb(torch.arange(T, device=device)).unsqueeze(0)  # (1,T,C)\n",
    "inp = tokens + positions  # (1,T,C)\n",
    "\n",
    "mha_small = MultiHeadSelfAttention(d_model=d_model, n_heads=4, dropout=0.0).to(device)\n",
    "with torch.no_grad():\n",
    "    out = mha_small(inp)\n",
    "out.shape\n"
   ]
  },
  {
   "cell_type": "code",
   "execution_count": 6,
   "id": "633d38d5",
   "metadata": {},
   "outputs": [
    {
     "name": "stdout",
     "output_type": "stream",
     "text": [
      "20 iters took 0.173s on cpu\n"
     ]
    }
   ],
   "source": [
    "# Cell 6 \n",
    "import time\n",
    "torch.manual_seed(0)\n",
    "B, T, C, H = 4, 256, 512, 8\n",
    "x = torch.randn(B, T, C, device=device)\n",
    "mha = MultiHeadSelfAttention(d_model=C, n_heads=H, dropout=0.0).to(device)\n",
    "\n",
    "# warmup\n",
    "for _ in range(5):\n",
    "    _ = mha(x)\n",
    "\n",
    "start = time.time()\n",
    "for _ in range(20):\n",
    "    _ = mha(x)\n",
    "torch.cuda.synchronize() if device == \"cuda\" else None\n",
    "elapsed = time.time() - start\n",
    "print(f\"20 iters took {elapsed:.3f}s on {device}\")\n"
   ]
  }
 ],
 "metadata": {
  "kernelspec": {
   "display_name": ".venv",
   "language": "python",
   "name": "python3"
  },
  "language_info": {
   "codemirror_mode": {
    "name": "ipython",
    "version": 3
   },
   "file_extension": ".py",
   "mimetype": "text/x-python",
   "name": "python",
   "nbconvert_exporter": "python",
   "pygments_lexer": "ipython3",
   "version": "3.13.4"
  }
 },
 "nbformat": 4,
 "nbformat_minor": 5
}
